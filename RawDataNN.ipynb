{
 "cells": [
  {
   "cell_type": "markdown",
   "id": "6affceee",
   "metadata": {},
   "source": [
    "# Implementing FDNN"
   ]
  },
  {
   "cell_type": "code",
   "execution_count": 1,
   "id": "b07e35d0",
   "metadata": {
    "tags": []
   },
   "outputs": [],
   "source": [
    "import numpy as np\n",
    "import torch\n",
    "import torch.nn as nn\n",
    "import torch.nn.functional as F"
   ]
  },
  {
   "cell_type": "code",
   "execution_count": 2,
   "id": "4a6e44b4",
   "metadata": {},
   "outputs": [],
   "source": [
    "class FeedForward(nn.Module):\n",
    "\n",
    "    def __init__(self, in_d=1, hidden=[4,4,4], dropout=0.1, activation=F.relu):\n",
    "        super().__init__()\n",
    "        self.sigma = activation\n",
    "        dim = [in_d] + hidden + [1]\n",
    "        self.layers = nn.ModuleList([nn.Linear(dim[i-1], dim[i]) for i in range(1, len(dim))])\n",
    "        self.dp = nn.ModuleList([nn.Dropout(dropout) for _ in range(len(hidden))])\n",
    "\n",
    "    def forward(self, t):\n",
    "        t = t.to(next(self.layers[0].parameters()).device)  \n",
    "        \n",
    "        for i in range(len(self.layers)-1):\n",
    "            t = self.layers[i](t)\n",
    "            t = self.sigma(t)\n",
    "            # apply dropout\n",
    "            t = self.dp[i](t)\n",
    "        # linear activation at the last layer\n",
    "        return self.layers[-1](t)"
   ]
  },
  {
   "cell_type": "code",
   "execution_count": 3,
   "id": "64017ab6-bb10-4175-ac63-f70e0b188aa2",
   "metadata": {},
   "outputs": [],
   "source": [
    "import numpy as np\n",
    "import pandas as pd\n",
    "from pathlib import Path"
   ]
  },
  {
   "cell_type": "markdown",
   "id": "ae58325a",
   "metadata": {},
   "source": [
    "### Data Loader\n",
    "\n",
    "This module reads the Dataset from csv files and split it according to a pre-specific train/valid/test ratio. The Dataset is standardized."
   ]
  },
  {
   "cell_type": "code",
   "execution_count": 4,
   "id": "fb3d8cd5",
   "metadata": {
    "tags": []
   },
   "outputs": [],
   "source": [
    "from sklearn.preprocessing import StandardScaler\n",
    "\n",
    "class DataLoader:\n",
    "\n",
    "    def __init__(self, batch_size, X, Y, split=(8, 1, 1), random_seed=10294):        \n",
    "        \"\"\"\n",
    "        batch_size : batch size, integer\n",
    "        X - (n, J) : pandas.DataFrame for observed functional Data, n - subject number, J - number of time points\n",
    "        Y - (n, 1) : pandas.DataFrame for response\n",
    "        split      : train/valid/test split\n",
    "        random_seed: random seed for training Data re-shuffle\n",
    "        \"\"\"        \n",
    "        self.n, J = X.shape\n",
    "        X, Y = X.values, Y.values\n",
    "\n",
    "        # train/valid/test split\n",
    "        self.batch_size = batch_size\n",
    "        train_n = self.n // sum(split) * split[0]\n",
    "        valid_n = self.n // sum(split) * split[1]\n",
    "        test_n = self.n - train_n - valid_n\n",
    "        self.train_B = train_n // batch_size\n",
    "        self.valid_B = valid_n // batch_size\n",
    "        self.test_B = test_n // batch_size\n",
    "\n",
    "        # random shuffle\n",
    "        np.random.seed(random_seed)\n",
    "        _order = list(range(self.n))\n",
    "        np.random.shuffle(_order)\n",
    "        X = X[_order, :]\n",
    "        Y = Y[_order, :]\n",
    "\n",
    "        # standardize Dataset based on the training Dataset\n",
    "        self.X_standardizer = StandardScaler()\n",
    "        self.Y_standardizer = StandardScaler()\n",
    "\n",
    "        # train/valid/test split\n",
    "        self.train_X = X[:(self.train_B * self.batch_size), :]\n",
    "        self.train_Y = Y[:(self.train_B * self.batch_size), :]\n",
    "        self.X_standardizer.fit(self.train_X)\n",
    "        self.Y_standardizer.fit(self.train_Y)\n",
    "        self.train_X = self.X_standardizer.transform(self.train_X)\n",
    "        self.train_Y = self.Y_standardizer.transform(self.train_Y)\n",
    "\n",
    "        self.valid_X = X[(self.train_B * self.batch_size):((self.train_B + self.valid_B) * self.batch_size), :]\n",
    "        self.valid_Y = Y[(self.train_B * self.batch_size):((self.train_B + self.valid_B) * self.batch_size), :]\n",
    "        self.valid_X = self.X_standardizer.transform(self.valid_X)\n",
    "        self.valid_Y = self.Y_standardizer.transform(self.valid_Y)\n",
    "\n",
    "        self.test_X = X[((self.train_B + self.valid_B) * self.batch_size):, :]\n",
    "        self.test_Y = Y[((self.train_B + self.valid_B) * self.batch_size):, :]\n",
    "        self.test_X = self.X_standardizer.transform(self.test_X)\n",
    "        self.test_Y = self.Y_standardizer.transform(self.test_Y)\n",
    "\n",
    "    def shuffle(self):\n",
    "        # re-shuffle the training Dataset\n",
    "        train_size = self.train_X.shape[0]\n",
    "        new_order = list(range(train_size))\n",
    "        np.random.shuffle(new_order)\n",
    "        self.train_X = self.train_X[new_order, :]\n",
    "        self.train_Y = self.train_Y[new_order, :]\n",
    "\n",
    "    def _batch_generator(self, X, Y, N):\n",
    "\n",
    "        def generator_func():\n",
    "            for i in range(1, N):\n",
    "                x = X[((i - 1) * self.batch_size):((i) * self.batch_size), :]\n",
    "                y = Y[((i - 1) * self.batch_size):((i) * self.batch_size), :]\n",
    "\n",
    "                yield torch.Tensor(x), torch.Tensor(y)\n",
    "\n",
    "        return generator_func()\n",
    "\n",
    "    def get_train_batch(self):\n",
    "        return self._batch_generator(self.train_X, self.train_Y, self.train_B)\n",
    "\n",
    "    def get_valid_batch(self):\n",
    "        return self._batch_generator(self.valid_X, self.valid_Y, self.valid_B)\n",
    "\n",
    "    def get_test_batch(self):\n",
    "        return self._batch_generator(self.test_X, self.test_Y, self.test_B)"
   ]
  },
  {
   "cell_type": "markdown",
   "id": "cc49638f",
   "metadata": {},
   "source": [
    "# training the model"
   ]
  },
  {
   "cell_type": "code",
   "execution_count": 5,
   "id": "9040ebf5",
   "metadata": {},
   "outputs": [],
   "source": [
    "import sys\n",
    "import torch\n",
    "import numpy as np\n",
    "import pandas as pd\n",
    "import matplotlib.pyplot as plt\n",
    "from pathlib import Path\n",
    "from torch.optim import Adam"
   ]
  },
  {
   "cell_type": "markdown",
   "id": "bfaef536",
   "metadata": {},
   "source": [
    "A Dataset will be generated if it is not present. \n",
    "\n",
    "Here, we set the measurement error variance to be 1 and noise variance to be 0.2.\n",
    "\n",
    "**Note**: in this example, we use a flexible time point gap (**not** equal spacing). "
   ]
  },
  {
   "cell_type": "code",
   "execution_count": 6,
   "id": "7d177bf7",
   "metadata": {},
   "outputs": [],
   "source": [
    "batch_size = 128\n",
    "split = (64, 16, 20)"
   ]
  },
  {
   "cell_type": "code",
   "execution_count": 7,
   "id": "ce9c71c4",
   "metadata": {},
   "outputs": [],
   "source": [
    "dataset_path = './1st_task'\n",
    "\n",
    "X = pd.read_csv(dataset_path + \"/X.csv\", header=None)\n",
    "Y = pd.read_csv(dataset_path + \"/Y.csv\", header=None)\n",
    "\n",
    "DataLoader = DataLoader(batch_size,  X, Y, split)"
   ]
  },
  {
   "cell_type": "markdown",
   "id": "41d09fa1",
   "metadata": {},
   "source": [
    "Prepare the model and other training configurations:"
   ]
  },
  {
   "cell_type": "code",
   "execution_count": 8,
   "id": "79a0848f",
   "metadata": {
    "tags": []
   },
   "outputs": [],
   "source": [
    "# set up CPU/GPU\n",
    "device = torch.device(\"cuda\") \n",
    "# model configuration\n",
    "\"\"\"\n",
    "You can use a different model by modifing base_hidden, sub_hidden, n_base.\n",
    "\"\"\"\n",
    "hidden = [128, 128, 128]\n",
    "in_d = 48\n",
    "dropout = 0\n",
    "save_model_every = 100\n",
    "model = FeedForward(in_d=48, \n",
    "                    hidden=hidden,\n",
    "                    dropout=dropout)\n",
    "# send model to CPU/GPU\n",
    "_ = model.to(device)"
   ]
  },
  {
   "cell_type": "code",
   "execution_count": 9,
   "id": "29933651-24aa-44cb-ab1b-690eec0dbb9a",
   "metadata": {
    "tags": []
   },
   "outputs": [
    {
     "data": {
      "text/plain": [
       "device(type='cuda', index=0)"
      ]
     },
     "execution_count": 9,
     "metadata": {},
     "output_type": "execute_result"
    }
   ],
   "source": [
    "next(model.parameters()).device"
   ]
  },
  {
   "cell_type": "code",
   "execution_count": 10,
   "id": "cf7301ca",
   "metadata": {
    "tags": []
   },
   "outputs": [],
   "source": [
    "# training configuration\n",
    "epoch = 500\n",
    "pred_loss_train_history = []\n",
    "total_loss_train_history = []\n",
    "loss_valid_history = []\n",
    "# instantiate an optimizer\n",
    "optimizer = Adam(model.parameters(), lr=3e-4)\n",
    "# use MSE loss\n",
    "compute_loss = torch.nn.MSELoss()\n",
    "min_valid_loss = sys.maxsize"
   ]
  },
  {
   "cell_type": "markdown",
   "id": "564cc291",
   "metadata": {},
   "source": [
    "Create a folder to save checkpoints."
   ]
  },
  {
   "cell_type": "code",
   "execution_count": 11,
   "id": "593bd594",
   "metadata": {},
   "outputs": [],
   "source": [
    "folder = \"train/\"\n",
    "Path(folder).mkdir(parents=True, exist_ok=True)"
   ]
  },
  {
   "cell_type": "markdown",
   "id": "ee4e610e",
   "metadata": {},
   "source": [
    "Save and load models:"
   ]
  },
  {
   "cell_type": "code",
   "execution_count": 12,
   "id": "28319be1",
   "metadata": {},
   "outputs": [],
   "source": [
    "def save_model(folder, k, in_d, hidden, dropout, model, optimizer):\n",
    "    checkpoint = {'in_d': in_d,\n",
    "                  'hidden': hidden,\n",
    "                  'dropout': dropout,\n",
    "                  'state_dict': model.state_dict(),\n",
    "                  'optimizer': optimizer.state_dict()}\n",
    "    torch.save(checkpoint, folder + str(k) + '_' + 'checkpoint.pth')\n",
    "\n",
    "\n",
    "def load_model(file_path):\n",
    "    checkpoint = torch.load(file_path)\n",
    "    model = FeedForward(in_d=checkpoint['in_d'],\n",
    "                        hidden=checkpoint['hidden'],\n",
    "                        dropout=checkpoint['dropout'])\n",
    "    model.load_state_dict(checkpoint['state_dict'])\n",
    "    _ = model.to(device)\n",
    "    return model, checkpoint"
   ]
  },
  {
   "cell_type": "markdown",
   "id": "b74ef584",
   "metadata": {},
   "source": [
    "training procedure:"
   ]
  },
  {
   "cell_type": "code",
   "execution_count": 13,
   "id": "235a85eb",
   "metadata": {
    "scrolled": true
   },
   "outputs": [
    {
     "name": "stdout",
     "output_type": "stream",
     "text": [
      "epoch: 10 \n",
      " prediction training loss =  0.05425512188902268 validation loss =  0.04189280793070793\n",
      "epoch: 20 \n",
      " prediction training loss =  0.04875915748282121 validation loss =  0.041832806169986726\n",
      "epoch: 30 \n",
      " prediction training loss =  0.05821664273165739 validation loss =  0.04321317225694656\n",
      "epoch: 40 \n",
      " prediction training loss =  0.04329937424224157 validation loss =  0.04437461867928505\n",
      "epoch: 50 \n",
      " prediction training loss =  0.03769966766524773 validation loss =  0.048315898329019544\n",
      "epoch: 60 \n",
      " prediction training loss =  0.03366715092068681 validation loss =  0.04858711995184421\n",
      "epoch: 70 \n",
      " prediction training loss =  0.02893367574478571 validation loss =  0.051584117114543915\n",
      "epoch: 80 \n",
      " prediction training loss =  0.028845807035955098 validation loss =  0.05873852148652077\n",
      "epoch: 90 \n",
      " prediction training loss =  0.026312994878165998 validation loss =  0.05587145537137985\n",
      "epoch: 100 \n",
      " prediction training loss =  0.020216125672539838 validation loss =  0.061265932768583296\n",
      "epoch: 110 \n",
      " prediction training loss =  0.01666521793231368 validation loss =  0.06714175567030907\n",
      "epoch: 120 \n",
      " prediction training loss =  0.01769841268945199 validation loss =  0.07535986378788948\n",
      "epoch: 130 \n",
      " prediction training loss =  0.020018537188521944 validation loss =  0.06784806177020072\n",
      "epoch: 140 \n",
      " prediction training loss =  0.01206265832297504 validation loss =  0.07394114881753922\n",
      "epoch: 150 \n",
      " prediction training loss =  0.013922913967130275 validation loss =  0.09576003402471542\n",
      "epoch: 160 \n",
      " prediction training loss =  0.009835471560318883 validation loss =  0.07628864794969559\n",
      "epoch: 170 \n",
      " prediction training loss =  0.00979136648731163 validation loss =  0.07556926012039185\n",
      "epoch: 180 \n",
      " prediction training loss =  0.008557629502879886 validation loss =  0.07715968489646911\n",
      "epoch: 190 \n",
      " prediction training loss =  0.020156799672314756 validation loss =  0.06850795969367027\n",
      "epoch: 200 \n",
      " prediction training loss =  0.014013512633167781 validation loss =  0.07620235979557037\n",
      "epoch: 210 \n",
      " prediction training loss =  0.011788397149827618 validation loss =  0.08329320996999741\n",
      "epoch: 220 \n",
      " prediction training loss =  0.014242254725943964 validation loss =  0.10657147765159607\n",
      "epoch: 230 \n",
      " prediction training loss =  0.008246434100258809 validation loss =  0.07514539808034897\n",
      "epoch: 240 \n",
      " prediction training loss =  0.007688904387088349 validation loss =  0.08256052955985069\n",
      "epoch: 250 \n",
      " prediction training loss =  0.005850769830151246 validation loss =  0.08120913878083229\n",
      "epoch: 260 \n",
      " prediction training loss =  0.008373099889677878 validation loss =  0.08025722652673721\n",
      "epoch: 270 \n",
      " prediction training loss =  0.004969371303629417 validation loss =  0.08242377862334252\n",
      "epoch: 280 \n",
      " prediction training loss =  0.042713448154525116 validation loss =  0.086527980864048\n",
      "epoch: 290 \n",
      " prediction training loss =  0.012463043264758129 validation loss =  0.07554857060313225\n",
      "epoch: 300 \n",
      " prediction training loss =  0.004922068498742122 validation loss =  0.08356178551912308\n",
      "epoch: 310 \n",
      " prediction training loss =  0.012166971376595588 validation loss =  0.09499165639281273\n",
      "epoch: 320 \n",
      " prediction training loss =  0.006698589001853879 validation loss =  0.08253979533910752\n",
      "epoch: 330 \n",
      " prediction training loss =  0.01081045031046065 validation loss =  0.07860490530729294\n",
      "epoch: 340 \n",
      " prediction training loss =  0.004431031975680246 validation loss =  0.08197407945990562\n",
      "epoch: 350 \n",
      " prediction training loss =  0.004330109527262931 validation loss =  0.0839609108865261\n",
      "epoch: 360 \n",
      " prediction training loss =  0.011491539100041756 validation loss =  0.07954665571451187\n",
      "epoch: 370 \n",
      " prediction training loss =  0.0044259904713656465 validation loss =  0.07766299843788146\n",
      "epoch: 380 \n",
      " prediction training loss =  0.005853274389385031 validation loss =  0.07602225095033646\n",
      "epoch: 390 \n",
      " prediction training loss =  0.011012938912384786 validation loss =  0.07168671265244483\n",
      "epoch: 400 \n",
      " prediction training loss =  0.004955663695000112 validation loss =  0.07741697281599044\n",
      "epoch: 410 \n",
      " prediction training loss =  0.00506339498455278 validation loss =  0.07562178298830986\n",
      "epoch: 420 \n",
      " prediction training loss =  0.0035176624884255803 validation loss =  0.07886274456977845\n",
      "epoch: 430 \n",
      " prediction training loss =  0.0034748718697720994 validation loss =  0.07691467106342316\n",
      "epoch: 440 \n",
      " prediction training loss =  0.005445856198023718 validation loss =  0.08091021105647087\n",
      "epoch: 450 \n",
      " prediction training loss =  0.018790532333346512 validation loss =  0.06953672394156456\n",
      "epoch: 460 \n",
      " prediction training loss =  0.003746192557558131 validation loss =  0.07910249307751656\n",
      "epoch: 470 \n",
      " prediction training loss =  0.023936069033180293 validation loss =  0.06680625081062316\n",
      "epoch: 480 \n",
      " prediction training loss =  0.003943876255876743 validation loss =  0.07757223248481751\n",
      "epoch: 490 \n",
      " prediction training loss =  0.003106783623269831 validation loss =  0.07863388508558274\n",
      "epoch: 500 \n",
      " prediction training loss =  0.010031236335635185 validation loss =  0.0733741618692875\n"
     ]
    }
   ],
   "source": [
    "\n",
    "for k in range(epoch):\n",
    "\n",
    "    if k and k % save_model_every == 0:\n",
    "        save_model(folder, k, in_d, hidden, dropout, model, optimizer)\n",
    "\n",
    "    pred_loss_train = []\n",
    "    total_loss_train = []\n",
    "    loss_valid = []\n",
    "    DataLoader.shuffle()\n",
    "    # set model training state\n",
    "    model.train()\n",
    "\n",
    "    for i, (x, y) in enumerate(DataLoader.get_train_batch()):\n",
    "        x, y = x.to(device), y.to(device)\n",
    "        out = model.forward(x)\n",
    "        loss_pred = compute_loss(out, y)\n",
    "        loss = loss_pred\n",
    "        # record training loss history\n",
    "        total_loss_train.append(loss.item())\n",
    "        pred_loss_train.append(loss_pred.item())\n",
    "\n",
    "        # update parameters using backpropagation\n",
    "        optimizer.zero_grad()\n",
    "        loss.backward()\n",
    "        optimizer.step()\n",
    "\n",
    "    total_loss_train_history.append(np.mean(total_loss_train))\n",
    "    pred_loss_train_history.append(np.mean(pred_loss_train))\n",
    "\n",
    "    # model evaluation mode\n",
    "\n",
    "    with torch.no_grad():\n",
    "        model.eval()\n",
    "        for x, y in DataLoader.get_valid_batch():\n",
    "            x, y = x.to(device), y.to(device)\n",
    "            valid_y = model.forward(x)\n",
    "            valid_loss = compute_loss(valid_y, y)\n",
    "            # print(\"valid - check out: \", check_tensor([valid_loss]))\n",
    "            loss_valid.append(valid_loss.item())\n",
    "\n",
    "    if np.mean(loss_valid) < min_valid_loss:\n",
    "        save_model(folder, \"best\", in_d, hidden, dropout, model, optimizer)\n",
    "        min_valid_loss = np.mean(loss_valid)\n",
    "\n",
    "    loss_valid_history.append(np.mean(loss_valid))\n",
    "    \n",
    "    if (k+1) % 10 == 0:\n",
    "        print(\"epoch:\", k+1, \"\\n\",\n",
    "              \"prediction training loss = \", pred_loss_train_history[-1],\n",
    "              \"validation loss = \", loss_valid_history[-1])\n",
    "        "
   ]
  },
  {
   "cell_type": "markdown",
   "id": "840fa063",
   "metadata": {},
   "source": [
    "Please note that the validation error was computed after a training epoch was complete. So the validation error is generally smaller than the training error. "
   ]
  },
  {
   "cell_type": "markdown",
   "id": "7242dd67",
   "metadata": {},
   "source": [
    "Make a loss plot after training finishes."
   ]
  },
  {
   "cell_type": "code",
   "execution_count": 14,
   "id": "d62cf2f1",
   "metadata": {
    "scrolled": true
   },
   "outputs": [
    {
     "data": {
      "image/png": "[encoded data removed]",
      "text/plain": [
       "<Figure size 640x480 with 1 Axes>"
      ]
     },
     "metadata": {},
     "output_type": "display_data"
    }
   ],
   "source": [
    "plt.plot(list(range(1, epoch + 1)), pred_loss_train_history, label='train_pred')\n",
    "plt.xlabel('Epoch')\n",
    "plt.ylabel('MSE Loss')\n",
    "plt.legend()\n",
    "plt.show()"
   ]
  },
  {
   "cell_type": "markdown",
   "id": "1085d369",
   "metadata": {},
   "source": [
    "After training, to make predictions, we can load the best model and run it on the (test) Dataset."
   ]
  },
  {
   "cell_type": "code",
   "execution_count": 15,
   "id": "b2b0a693",
   "metadata": {},
   "outputs": [],
   "source": [
    "def make_prediction(DataLoader, folder=\"train/\"):\n",
    "    ck = folder + \"best_checkpoint.pth\"\n",
    "    # load the best model\n",
    "    model, t = load_model(ck)\n",
    "    \n",
    "    loss_test  = []\n",
    "    y_pred = []\n",
    "    \n",
    "    with torch.no_grad():\n",
    "        model.eval()\n",
    "        \"\"\"\n",
    "        Get the performance of the best train model on test Dataset\n",
    "        \"\"\"\n",
    "        for x, y in DataLoader.get_test_batch():\n",
    "            x, y = x.to(device), y.to(device)\n",
    "            test_y = model.forward(x)\n",
    "            y_pred.extend(test_y.detach().cpu().numpy().tolist())\n",
    "            test_loss = compute_loss(test_y, y)\n",
    "            loss_test.append(test_loss.item()) \n",
    "        \n",
    "    \"\"\"\n",
    "    Compute the MSE of the test Dataset\n",
    "    \"\"\"\n",
    "    print(\"test accuracy MSE :\", np.mean(loss_test))\n",
    "    \n",
    "    \"\"\"\n",
    "    return the predicted y values by re-scaling the model output\n",
    "    \"\"\"\n",
    "    \n",
    "    return DataLoader.Y_standardizer.inverse_transform(y_pred)\n"
   ]
  },
  {
   "cell_type": "code",
   "execution_count": 16,
   "id": "815c040b",
   "metadata": {
    "scrolled": true
   },
   "outputs": [
    {
     "name": "stdout",
     "output_type": "stream",
     "text": [
      "test accuracy MSE : 0.055537412741354535\n"
     ]
    }
   ],
   "source": [
    "y_pred_test = make_prediction(DataLoader)"
   ]
  },
  {
   "cell_type": "code",
   "execution_count": null,
   "id": "dc31ec06-8ea7-41aa-b634-cd7af275a329",
   "metadata": {},
   "outputs": [],
   "source": []
  }
 ],
 "metadata": {
  "kernelspec": {
   "display_name": "PyTorch 2.2.1",
   "language": "python",
   "name": "pytorch2.2.1"
  },
  "language_info": {
   "codemirror_mode": {
    "name": "ipython",
    "version": 3
   },
   "file_extension": ".py",
   "mimetype": "text/x-python",
   "name": "python",
   "nbconvert_exporter": "python",
   "pygments_lexer": "ipython3",
   "version": "3.12.2"
  }
 },
 "nbformat": 4,
 "nbformat_minor": 5
}
