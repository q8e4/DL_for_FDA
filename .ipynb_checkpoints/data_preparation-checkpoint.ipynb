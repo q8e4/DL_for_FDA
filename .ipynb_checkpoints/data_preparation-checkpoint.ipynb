{
 "cells": [
  {
   "cell_type": "code",
   "execution_count": 1,
   "id": "a35e064a-6f2a-45c8-9334-d87c47e71890",
   "metadata": {
    "tags": []
   },
   "outputs": [
    {
     "name": "stdout",
     "output_type": "stream",
     "text": [
      "Downloaded dataset to ./london_energy_data/LCL-FullData.zip\n"
     ]
    }
   ],
   "source": [
    "import os\n",
    "import requests\n",
    "\n",
    "url = 'https://data.london.gov.uk/download/smartmeter-energy-use-data-in-london-households/3527bf39-d93e-4071-8451-df2ade1ea4f2/LCL-FullData.zip'\n",
    "\n",
    "folder_path = \"data/london_energy_data\"  \n",
    "os.makedirs(folder_path, exist_ok=True)\n",
    "\n",
    "# Define the full path for the ZIP file\n",
    "zip_file_path = os.path.join(folder_path, \"LCL-FullData.zip\")\n",
    "\n",
    "response = requests.get(url)\n",
    "with open(zip_file_path, 'wb') as file:\n",
    "    file.write(response.content)\n",
    "\n",
    "print(f\"Downloaded dataset to {zip_file_path}\")\n"
   ]
  },
  {
   "cell_type": "code",
   "execution_count": null,
   "id": "f9d85530-b4f8-4c09-87ae-bb6d2252118e",
   "metadata": {},
   "outputs": [],
   "source": [
    "!python3.11 -m pip install unzip"
   ]
  },
  {
   "cell_type": "code",
   "execution_count": 5,
   "id": "54d4ad88-c926-44ec-8150-0b6f4b71b785",
   "metadata": {
    "tags": []
   },
   "outputs": [
    {
     "name": "stdout",
     "output_type": "stream",
     "text": [
      "Archive:  ./london_energy_data/LCL-FullData.zip\n",
      " Length   Method    Size  Cmpr    Date    Time   CRC-32   Name\n",
      "--------  ------  ------- ---- ---------- ----- --------  ----\n",
      "8542818238  Def64N 801674781  91% 2021-08-25 12:01 ad43c9ea  CC_LCL-FullData.csv\n",
      "--------          -------  ---                            -------\n",
      "8542818238         801674781  91%                            1 file\n"
     ]
    }
   ],
   "source": [
    "!unzip -v ./london_energy_data/LCL-FullData.zip"
   ]
  },
  {
   "cell_type": "code",
   "execution_count": null,
   "id": "edf3d02e-efc4-414b-8281-bb41262331d1",
   "metadata": {},
   "outputs": [],
   "source": [
    "unzip ./london_energy_data/LCL-FullData.zip -d ./content"
   ]
  }
 ],
 "metadata": {
  "kernelspec": {
   "display_name": "Python 3 (ipykernel)",
   "language": "python",
   "name": "python3"
  },
  "language_info": {
   "codemirror_mode": {
    "name": "ipython",
    "version": 3
   },
   "file_extension": ".py",
   "mimetype": "text/x-python",
   "name": "python",
   "nbconvert_exporter": "python",
   "pygments_lexer": "ipython3",
   "version": "3.11.3"
  }
 },
 "nbformat": 4,
 "nbformat_minor": 5
}
