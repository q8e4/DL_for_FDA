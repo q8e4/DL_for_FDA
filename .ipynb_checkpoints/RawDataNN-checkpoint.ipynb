{
 "cells": [
  {
   "cell_type": "markdown",
   "id": "6affceee",
   "metadata": {},
   "source": [
    "# Implementing FDNN"
   ]
  },
  {
   "cell_type": "code",
   "execution_count": 1,
   "id": "b07e35d0",
   "metadata": {
    "tags": []
   },
   "outputs": [],
   "source": [
    "import numpy as np\n",
    "import torch\n",
    "import torch.nn as nn\n",
    "import torch.nn.functional as F"
   ]
  },
  {
   "cell_type": "code",
   "execution_count": 2,
   "id": "4a6e44b4",
   "metadata": {},
   "outputs": [],
   "source": [
    "class FeedForward(nn.Module):\n",
    "\n",
    "    def __init__(self, in_d=1, hidden=[4,4,4], dropout=0.1, activation=F.relu):\n",
    "        # in_d      : input dimension, integer\n",
    "        # hidden    : hidden layer dimension, array of integers\n",
    "        # dropout   : dropout probability, a float between 0.0 and 1.0\n",
    "        # activation: activation function at each layer\n",
    "        super().__init__()\n",
    "        self.sigma = activation\n",
    "        dim = [in_d] + hidden + [1]\n",
    "        self.layers = nn.ModuleList([nn.Linear(dim[i-1], dim[i]) for i in range(1, len(dim))])\n",
    "        self.dp = nn.ModuleList([nn.Dropout(dropout) for _ in range(len(hidden))])\n",
    "\n",
    "    def forward(self, t):\n",
    "        t = t.to(next(self.layers[0].parameters()).device)  \n",
    "        \n",
    "        for i in range(len(self.layers)-1):\n",
    "            t = self.layers[i](t)\n",
    "            t = self.sigma(t)\n",
    "            # apply dropout\n",
    "            t = self.dp[i](t)\n",
    "        # linear activation at the last layer\n",
    "        return self.layers[-1](t)"
   ]
  },
  {
   "cell_type": "code",
   "execution_count": 3,
   "id": "64017ab6-bb10-4175-ac63-f70e0b188aa2",
   "metadata": {},
   "outputs": [],
   "source": [
    "import numpy as np\n",
    "import pandas as pd\n",
    "from pathlib import Path"
   ]
  },
  {
   "cell_type": "markdown",
   "id": "ae58325a",
   "metadata": {},
   "source": [
    "### Data Loader\n",
    "\n",
    "This module reads the Dataset from csv files and split it according to a pre-specific train/valid/test ratio. The Dataset is standardized."
   ]
  },
  {
   "cell_type": "code",
   "execution_count": 4,
   "id": "fb3d8cd5",
   "metadata": {
    "tags": []
   },
   "outputs": [],
   "source": [
    "from sklearn.preprocessing import StandardScaler\n",
    "\n",
    "class DataLoader:\n",
    "\n",
    "    def __init__(self, batch_size, X, Y, split=(8, 1, 1), random_seed=10294):        \n",
    "        \"\"\"\n",
    "        batch_size : batch size, integer\n",
    "        X - (n, J) : pandas.DataFrame for observed functional Data, n - subject number, J - number of time points\n",
    "        Y - (n, 1) : pandas.DataFrame for response\n",
    "        split      : train/valid/test split\n",
    "        random_seed: random seed for training Data re-shuffle\n",
    "        \"\"\"        \n",
    "        self.n, J = X.shape\n",
    "        X, Y = X.values, Y.values\n",
    "\n",
    "        # train/valid/test split\n",
    "        self.batch_size = batch_size\n",
    "        train_n = self.n // sum(split) * split[0]\n",
    "        valid_n = self.n // sum(split) * split[1]\n",
    "        test_n = self.n - train_n - valid_n\n",
    "        self.train_B = train_n // batch_size\n",
    "        self.valid_B = valid_n // batch_size\n",
    "        self.test_B = test_n // batch_size\n",
    "\n",
    "        # random shuffle\n",
    "        np.random.seed(random_seed)\n",
    "        _order = list(range(self.n))\n",
    "        np.random.shuffle(_order)\n",
    "        X = X[_order, :]\n",
    "        Y = Y[_order, :]\n",
    "\n",
    "        # standardize Dataset based on the training Dataset\n",
    "        self.X_standardizer = StandardScaler()\n",
    "        self.Y_standardizer = StandardScaler()\n",
    "\n",
    "        # train/valid/test split\n",
    "        self.train_X = X[:(self.train_B * self.batch_size), :]\n",
    "        self.train_Y = Y[:(self.train_B * self.batch_size), :]\n",
    "        self.X_standardizer.fit(self.train_X)\n",
    "        self.Y_standardizer.fit(self.train_Y)\n",
    "        self.train_X = self.X_standardizer.transform(self.train_X)\n",
    "        self.train_Y = self.Y_standardizer.transform(self.train_Y)\n",
    "\n",
    "        self.valid_X = X[(self.train_B * self.batch_size):((self.train_B + self.valid_B) * self.batch_size), :]\n",
    "        self.valid_Y = Y[(self.train_B * self.batch_size):((self.train_B + self.valid_B) * self.batch_size), :]\n",
    "        self.valid_X = self.X_standardizer.transform(self.valid_X)\n",
    "        self.valid_Y = self.Y_standardizer.transform(self.valid_Y)\n",
    "\n",
    "        self.test_X = X[((self.train_B + self.valid_B) * self.batch_size):, :]\n",
    "        self.test_Y = Y[((self.train_B + self.valid_B) * self.batch_size):, :]\n",
    "        self.test_X = self.X_standardizer.transform(self.test_X)\n",
    "        self.test_Y = self.Y_standardizer.transform(self.test_Y)\n",
    "\n",
    "    def shuffle(self):\n",
    "        # re-shuffle the training Dataset\n",
    "        train_size = self.train_X.shape[0]\n",
    "        new_order = list(range(train_size))\n",
    "        np.random.shuffle(new_order)\n",
    "        self.train_X = self.train_X[new_order, :]\n",
    "        self.train_Y = self.train_Y[new_order, :]\n",
    "\n",
    "    def _batch_generator(self, X, Y, N):\n",
    "\n",
    "        def generator_func():\n",
    "            for i in range(1, N):\n",
    "                x = X[((i - 1) * self.batch_size):((i) * self.batch_size), :]\n",
    "                y = Y[((i - 1) * self.batch_size):((i) * self.batch_size), :]\n",
    "\n",
    "                yield torch.Tensor(x), torch.Tensor(y)\n",
    "\n",
    "        return generator_func()\n",
    "\n",
    "    def get_train_batch(self):\n",
    "        return self._batch_generator(self.train_X, self.train_Y, self.train_B)\n",
    "\n",
    "    def get_valid_batch(self):\n",
    "        return self._batch_generator(self.valid_X, self.valid_Y, self.valid_B)\n",
    "\n",
    "    def get_test_batch(self):\n",
    "        return self._batch_generator(self.test_X, self.test_Y, self.test_B)"
   ]
  },
  {
   "cell_type": "markdown",
   "id": "cc49638f",
   "metadata": {},
   "source": [
    "# training the model"
   ]
  },
  {
   "cell_type": "code",
   "execution_count": 5,
   "id": "9040ebf5",
   "metadata": {},
   "outputs": [],
   "source": [
    "import sys\n",
    "import torch\n",
    "import numpy as np\n",
    "import pandas as pd\n",
    "import matplotlib.pyplot as plt\n",
    "from pathlib import Path\n",
    "from torch.optim import Adam"
   ]
  },
  {
   "cell_type": "markdown",
   "id": "bfaef536",
   "metadata": {},
   "source": [
    "A Dataset will be generated if it is not present. \n",
    "\n",
    "Here, we set the measurement error variance to be 1 and noise variance to be 0.2.\n",
    "\n",
    "**Note**: in this example, we use a flexible time point gap (**not** equal spacing). "
   ]
  },
  {
   "cell_type": "code",
   "execution_count": 6,
   "id": "7d177bf7",
   "metadata": {},
   "outputs": [],
   "source": [
    "batch_size = 32\n",
    "split = (64, 16, 20)"
   ]
  },
  {
   "cell_type": "code",
   "execution_count": 7,
   "id": "ce9c71c4",
   "metadata": {},
   "outputs": [],
   "source": [
    "dataset_path = './1st_task'\n",
    "\n",
    "X = pd.read_csv(dataset_path + \"/X_bases.csv\", header=None)\n",
    "Y = pd.read_csv(dataset_path + \"/Y.csv\", header=None)\n",
    "\n",
    "DataLoader = DataLoader(batch_size,  X, Y, split)"
   ]
  },
  {
   "cell_type": "markdown",
   "id": "41d09fa1",
   "metadata": {},
   "source": [
    "Prepare the model and other training configurations:"
   ]
  },
  {
   "cell_type": "code",
   "execution_count": 8,
   "id": "79a0848f",
   "metadata": {
    "tags": []
   },
   "outputs": [],
   "source": [
    "# set up CPU/GPU\n",
    "device = torch.device(\"cuda\") \n",
    "# model configuration\n",
    "\"\"\"\n",
    "You can use a different model by modifing base_hidden, sub_hidden, n_base.\n",
    "\"\"\"\n",
    "hidden = [32, 64, 64, 32]\n",
    "in_d = 15\n",
    "dropout = 0.1\n",
    "save_model_every = 10\n",
    "model = FeedForward(in_d=15, \n",
    "                    hidden=hidden,\n",
    "                    dropout=dropout)\n",
    "# send model to CPU/GPU\n",
    "_ = model.to(device)"
   ]
  },
  {
   "cell_type": "code",
   "execution_count": 9,
   "id": "29933651-24aa-44cb-ab1b-690eec0dbb9a",
   "metadata": {
    "tags": []
   },
   "outputs": [
    {
     "data": {
      "text/plain": [
       "device(type='cuda', index=0)"
      ]
     },
     "execution_count": 9,
     "metadata": {},
     "output_type": "execute_result"
    }
   ],
   "source": [
    "next(model.parameters()).device"
   ]
  },
  {
   "cell_type": "code",
   "execution_count": 10,
   "id": "cf7301ca",
   "metadata": {
    "tags": []
   },
   "outputs": [],
   "source": [
    "# training configuration\n",
    "epoch = 110\n",
    "pred_loss_train_history = []\n",
    "total_loss_train_history = []\n",
    "loss_valid_history = []\n",
    "# instantiate an optimizer\n",
    "optimizer = Adam(model.parameters(), lr=3e-4)\n",
    "# use MSE loss\n",
    "compute_loss = torch.nn.MSELoss()\n",
    "min_valid_loss = sys.maxsize"
   ]
  },
  {
   "cell_type": "markdown",
   "id": "564cc291",
   "metadata": {},
   "source": [
    "Create a folder to save checkpoints."
   ]
  },
  {
   "cell_type": "code",
   "execution_count": 11,
   "id": "593bd594",
   "metadata": {},
   "outputs": [],
   "source": [
    "folder = \"train/\"\n",
    "Path(folder).mkdir(parents=True, exist_ok=True)"
   ]
  },
  {
   "cell_type": "markdown",
   "id": "ee4e610e",
   "metadata": {},
   "source": [
    "Save and load models:"
   ]
  },
  {
   "cell_type": "code",
   "execution_count": 12,
   "id": "28319be1",
   "metadata": {},
   "outputs": [],
   "source": [
    "def save_model(folder, k, in_d, hidden, dropout, model, optimizer):\n",
    "    checkpoint = {'in_d': in_d,\n",
    "                  'hidden': hidden,\n",
    "                  'dropout': dropout,\n",
    "                  'state_dict': model.state_dict(),\n",
    "                  'optimizer': optimizer.state_dict()}\n",
    "    torch.save(checkpoint, folder + str(k) + '_' + 'checkpoint.pth')\n",
    "\n",
    "\n",
    "def load_model(file_path):\n",
    "    checkpoint = torch.load(file_path)\n",
    "    model = FeedForward(in_d=checkpoint['in_d'],\n",
    "                        hidden=checkpoint['hidden'],\n",
    "                        dropout=checkpoint['dropout'])\n",
    "    model.load_state_dict(checkpoint['state_dict'])\n",
    "    _ = model.to(device)\n",
    "    return model, checkpoint"
   ]
  },
  {
   "cell_type": "markdown",
   "id": "b74ef584",
   "metadata": {},
   "source": [
    "training procedure:"
   ]
  },
  {
   "cell_type": "code",
   "execution_count": 13,
   "id": "235a85eb",
   "metadata": {
    "scrolled": true
   },
   "outputs": [
    {
     "name": "stdout",
     "output_type": "stream",
     "text": [
      "epoch: 10 \n",
      " prediction training loss =  0.09700818677697706 validation loss =  0.0621568955337772\n",
      "epoch: 20 \n",
      " prediction training loss =  0.08205795476059301 validation loss =  0.046293257986410305\n",
      "epoch: 30 \n",
      " prediction training loss =  0.07430993996287158 validation loss =  0.04598978652547185\n",
      "epoch: 40 \n",
      " prediction training loss =  0.08358796716693344 validation loss =  0.045821317758124605\n",
      "epoch: 50 \n",
      " prediction training loss =  0.07944561644465825 validation loss =  0.05078066398317997\n",
      "epoch: 60 \n",
      " prediction training loss =  0.06786762557308608 validation loss =  0.04747733552581989\n",
      "epoch: 70 \n",
      " prediction training loss =  0.10213673679551127 validation loss =  0.05053474804243216\n",
      "epoch: 80 \n",
      " prediction training loss =  0.07371037042434883 validation loss =  0.05335256958810183\n",
      "epoch: 90 \n",
      " prediction training loss =  0.07508845143703692 validation loss =  0.04732023487583949\n",
      "epoch: 100 \n",
      " prediction training loss =  0.07725748821341116 validation loss =  0.0559858693383061\n",
      "epoch: 110 \n",
      " prediction training loss =  0.08015853378477447 validation loss =  0.08852345661188547\n"
     ]
    }
   ],
   "source": [
    "\n",
    "for k in range(epoch):\n",
    "\n",
    "    if k and k % save_model_every == 0:\n",
    "        save_model(folder, k, in_d, hidden, dropout, model, optimizer)\n",
    "\n",
    "    pred_loss_train = []\n",
    "    total_loss_train = []\n",
    "    loss_valid = []\n",
    "    DataLoader.shuffle()\n",
    "    # set model training state\n",
    "    model.train()\n",
    "\n",
    "    for i, (x, y) in enumerate(DataLoader.get_train_batch()):\n",
    "        x, y = x.to(device), y.to(device)\n",
    "        out = model.forward(x)\n",
    "        loss_pred = compute_loss(out, y)\n",
    "        loss = loss_pred\n",
    "        # record training loss history\n",
    "        total_loss_train.append(loss.item())\n",
    "        pred_loss_train.append(loss_pred.item())\n",
    "\n",
    "        # update parameters using backpropagation\n",
    "        optimizer.zero_grad()\n",
    "        loss.backward()\n",
    "        optimizer.step()\n",
    "\n",
    "    total_loss_train_history.append(np.mean(total_loss_train))\n",
    "    pred_loss_train_history.append(np.mean(pred_loss_train))\n",
    "\n",
    "    # model evaluation mode\n",
    "\n",
    "    with torch.no_grad():\n",
    "        model.eval()\n",
    "        for x, y in DataLoader.get_valid_batch():\n",
    "            x, y = x.to(device), y.to(device)\n",
    "            valid_y = model.forward(x)\n",
    "            valid_loss = compute_loss(valid_y, y)\n",
    "            # print(\"valid - check out: \", check_tensor([valid_loss]))\n",
    "            loss_valid.append(valid_loss.item())\n",
    "\n",
    "    if np.mean(loss_valid) < min_valid_loss:\n",
    "        save_model(folder, \"best\", in_d, hidden, dropout, model, optimizer)\n",
    "        min_valid_loss = np.mean(loss_valid)\n",
    "\n",
    "    loss_valid_history.append(np.mean(loss_valid))\n",
    "    \n",
    "    if (k+1) % 10 == 0:\n",
    "        print(\"epoch:\", k+1, \"\\n\",\n",
    "              \"prediction training loss = \", pred_loss_train_history[-1],\n",
    "              \"validation loss = \", loss_valid_history[-1])\n",
    "        "
   ]
  },
  {
   "cell_type": "markdown",
   "id": "840fa063",
   "metadata": {},
   "source": [
    "Please note that the validation error was computed after a training epoch was complete. So the validation error is generally smaller than the training error. "
   ]
  },
  {
   "cell_type": "markdown",
   "id": "7242dd67",
   "metadata": {},
   "source": [
    "Make a loss plot after training finishes."
   ]
  },
  {
   "cell_type": "code",
   "execution_count": 14,
   "id": "d62cf2f1",
   "metadata": {
    "scrolled": true
   },
   "outputs": [
    {
     "data": {
      "image/png": "[encoded data removed]",
      "text/plain": [
       "<Figure size 640x480 with 1 Axes>"
      ]
     },
     "metadata": {},
     "output_type": "display_data"
    }
   ],
   "source": [
    "plt.plot(list(range(1, epoch + 1)), pred_loss_train_history, label='train_pred')\n",
    "plt.xlabel('Epoch')\n",
    "plt.ylabel('MSE Loss')\n",
    "plt.legend()\n",
    "plt.show()"
   ]
  },
  {
   "cell_type": "markdown",
   "id": "1085d369",
   "metadata": {},
   "source": [
    "After training, to make predictions, we can load the best model and run it on the (test) Dataset."
   ]
  },
  {
   "cell_type": "code",
   "execution_count": 15,
   "id": "b2b0a693",
   "metadata": {},
   "outputs": [],
   "source": [
    "def make_prediction(DataLoader, folder=\"train/\"):\n",
    "    ck = folder + \"best_checkpoint.pth\"\n",
    "    # load the best model\n",
    "    model, t = load_model(ck)\n",
    "    \n",
    "    loss_test  = []\n",
    "    y_pred = []\n",
    "    \n",
    "    with torch.no_grad():\n",
    "        model.eval()\n",
    "        \"\"\"\n",
    "        Get the performance of the best train model on test Dataset\n",
    "        \"\"\"\n",
    "        for x, y in DataLoader.get_test_batch():\n",
    "            x, y = x.to(device), y.to(device)\n",
    "            test_y = model.forward(x)\n",
    "            y_pred.extend(test_y.detach().cpu().numpy().tolist())\n",
    "            test_loss = compute_loss(test_y, y)\n",
    "            loss_test.append(test_loss.item()) \n",
    "        \n",
    "    \"\"\"\n",
    "    Compute the MSE of the test Dataset\n",
    "    \"\"\"\n",
    "    print(\"test accuracy MSE :\", np.mean(loss_test))\n",
    "    \n",
    "    \"\"\"\n",
    "    return the predicted y values by re-scaling the model output\n",
    "    \"\"\"\n",
    "    \n",
    "    return DataLoader.Y_standardizer.inverse_transform(y_pred)\n"
   ]
  },
  {
   "cell_type": "code",
   "execution_count": 16,
   "id": "815c040b",
   "metadata": {
    "scrolled": true
   },
   "outputs": [
    {
     "name": "stdout",
     "output_type": "stream",
     "text": [
      "test accuracy MSE : 0.04839433021278995\n"
     ]
    }
   ],
   "source": [
    "y_pred_test = make_prediction(DataLoader)"
   ]
  }
 ],
 "metadata": {
  "kernelspec": {
   "display_name": "PyTorch 2.2.1",
   "language": "python",
   "name": "pytorch2.2.1"
  },
  "language_info": {
   "codemirror_mode": {
    "name": "ipython",
    "version": 3
   },
   "file_extension": ".py",
   "mimetype": "text/x-python",
   "name": "python",
   "nbconvert_exporter": "python",
   "pygments_lexer": "ipython3",
   "version": "3.12.2"
  }
 },
 "nbformat": 4,
 "nbformat_minor": 5
}
